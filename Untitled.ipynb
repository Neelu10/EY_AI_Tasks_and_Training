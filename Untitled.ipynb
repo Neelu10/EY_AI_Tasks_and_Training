{
 "cells": [
  {
   "cell_type": "code",
   "execution_count": 1,
   "id": "d7e865b5-adc1-4b14-8080-9360ec7937f1",
   "metadata": {},
   "outputs": [
    {
     "name": "stdout",
     "output_type": "stream",
     "text": [
      "hello world\n"
     ]
    }
   ],
   "source": [
    "print(\"hello world\")"
   ]
  },
  {
   "cell_type": "code",
   "execution_count": 2,
   "id": "3aa26114-3230-4001-89fc-dbd7a331ece8",
   "metadata": {},
   "outputs": [],
   "source": [
    "import pandas as pd\n",
    "import numpy as np"
   ]
  },
  {
   "cell_type": "code",
   "execution_count": 19,
   "id": "12f74eca-5a32-4bbe-adef-cec39fb37e9d",
   "metadata": {},
   "outputs": [
    {
     "name": "stdout",
     "output_type": "stream",
     "text": [
      "    Name  age Course  marks\n",
      "0  alice   21  ai&ds     44\n",
      "1   john   45     ml     67\n",
      "2    bob   66     cs     90\n",
      "3  chris   33     ml     22\n"
     ]
    }
   ],
   "source": [
    "data={\n",
    "    \"Name\":[\"alice\",\"john\",\"bob\",\"chris\"],\n",
    "    \"age\":[21,45,66,33],\n",
    "    \"Course\":[\"ai&ds\",\"ml\",\"cs\",'ml'],\n",
    "    \"marks\":[44,67,90,22]}\n",
    "df=pd.DataFrame(data)\n",
    "print(df)"
   ]
  },
  {
   "cell_type": "code",
   "execution_count": 20,
   "id": "ca7409af-c86c-4be8-a56f-0bd8e4d40d97",
   "metadata": {},
   "outputs": [
    {
     "name": "stdout",
     "output_type": "stream",
     "text": [
      "0    alice\n",
      "1     john\n",
      "2      bob\n",
      "3    chris\n",
      "Name: Name, dtype: object\n",
      "    Name  age\n",
      "0  alice   21\n",
      "1   john   45\n",
      "2    bob   66\n",
      "3  chris   33\n",
      "Name      alice\n",
      "age          21\n",
      "Course    ai&ds\n",
      "marks        44\n",
      "Name: 0, dtype: object\n",
      "cs\n"
     ]
    }
   ],
   "source": [
    "print(df[\"Name\"])\n",
    "print(df[[\"Name\",\"age\"]])\n",
    "print(df.iloc[0])\n",
    "print(df.loc[2,\"Course\"])"
   ]
  },
  {
   "cell_type": "code",
   "execution_count": 21,
   "id": "734713ce-e78c-4aad-96f2-1af900959070",
   "metadata": {},
   "outputs": [
    {
     "name": "stdout",
     "output_type": "stream",
     "text": [
      "   Name  age Course  marks\n",
      "1  john   45     ml     67\n",
      "2   bob   66     cs     90\n"
     ]
    }
   ],
   "source": [
    "high_scorers=df[df[\"marks\"]> 50]\n",
    "print(high_scorers)"
   ]
  },
  {
   "cell_type": "code",
   "execution_count": 22,
   "id": "9702547c-0556-48b8-9167-8866e08e43cb",
   "metadata": {},
   "outputs": [
    {
     "name": "stdout",
     "output_type": "stream",
     "text": [
      "    Name  age Course  marks Result\n",
      "0  alice   21  ai&ds     58   Fail\n",
      "1   john   45     ml     67   Pass\n",
      "2    bob   66     cs     90   Pass\n",
      "3  chris   33     ml     22   Fail\n"
     ]
    }
   ],
   "source": [
    "df[\"Result\"]=np.where(df[\"marks\"]>=50,\"Pass\",\"Fail\")\n",
    "df.loc[df[\"Name\"]=='alice',\"marks\"]=58\n",
    "print(df)"
   ]
  },
  {
   "cell_type": "code",
   "execution_count": 23,
   "id": "4d5ce1af-25ce-424e-94a3-d48dabcbaec4",
   "metadata": {},
   "outputs": [
    {
     "name": "stdout",
     "output_type": "stream",
     "text": [
      "Requirement already satisfied: matplotlib in c:\\users\\user1\\pycharmprojects\\eytasksandtrainings\\.venv\\lib\\site-packages (3.10.6)\n",
      "Requirement already satisfied: contourpy>=1.0.1 in c:\\users\\user1\\pycharmprojects\\eytasksandtrainings\\.venv\\lib\\site-packages (from matplotlib) (1.3.3)\n",
      "Requirement already satisfied: cycler>=0.10 in c:\\users\\user1\\pycharmprojects\\eytasksandtrainings\\.venv\\lib\\site-packages (from matplotlib) (0.12.1)\n",
      "Requirement already satisfied: fonttools>=4.22.0 in c:\\users\\user1\\pycharmprojects\\eytasksandtrainings\\.venv\\lib\\site-packages (from matplotlib) (4.60.0)\n",
      "Requirement already satisfied: kiwisolver>=1.3.1 in c:\\users\\user1\\pycharmprojects\\eytasksandtrainings\\.venv\\lib\\site-packages (from matplotlib) (1.4.9)\n",
      "Requirement already satisfied: numpy>=1.23 in c:\\users\\user1\\pycharmprojects\\eytasksandtrainings\\.venv\\lib\\site-packages (from matplotlib) (2.3.3)\n",
      "Requirement already satisfied: packaging>=20.0 in c:\\users\\user1\\pycharmprojects\\eytasksandtrainings\\.venv\\lib\\site-packages (from matplotlib) (25.0)\n",
      "Requirement already satisfied: pillow>=8 in c:\\users\\user1\\pycharmprojects\\eytasksandtrainings\\.venv\\lib\\site-packages (from matplotlib) (11.3.0)\n",
      "Requirement already satisfied: pyparsing>=2.3.1 in c:\\users\\user1\\pycharmprojects\\eytasksandtrainings\\.venv\\lib\\site-packages (from matplotlib) (3.2.5)\n",
      "Requirement already satisfied: python-dateutil>=2.7 in c:\\users\\user1\\pycharmprojects\\eytasksandtrainings\\.venv\\lib\\site-packages (from matplotlib) (2.9.0.post0)\n",
      "Requirement already satisfied: six>=1.5 in c:\\users\\user1\\pycharmprojects\\eytasksandtrainings\\.venv\\lib\\site-packages (from python-dateutil>=2.7->matplotlib) (1.17.0)\n",
      "Note: you may need to restart the kernel to use updated packages.\n"
     ]
    },
    {
     "name": "stderr",
     "output_type": "stream",
     "text": [
      "\n",
      "[notice] A new release of pip is available: 25.1.1 -> 25.2\n",
      "[notice] To update, run: python.exe -m pip install --upgrade pip\n"
     ]
    }
   ],
   "source": [
    "pip install matplotlib"
   ]
  },
  {
   "cell_type": "code",
   "execution_count": 24,
   "id": "9c7c8444-b188-4c62-85fc-07b315c02303",
   "metadata": {},
   "outputs": [
    {
     "data": {
      "image/png": "[encoded data removed]",
      "text/plain": [
       "<Figure size 640x480 with 1 Axes>"
      ]
     },
     "metadata": {},
     "output_type": "display_data"
    }
   ],
   "source": [
    "import matplotlib.pyplot as plt\n",
    "avg_marks=df.groupby(\"Course\")[\"marks\"].mean()\n",
    "avg_marks.plot(kind=\"bar\",color=\"pink\",edgecolor=\"black\")\n",
    "plt.title(\"avg marks by Course\")\n",
    "plt.xlabel(\"Course\")\n",
    "plt.ylabel(\"marks\")\n",
    "plt.xticks(rotation=45)\n",
    "plt.show()\n"
   ]
  },
  {
   "cell_type": "code",
   "execution_count": null,
   "id": "8972d4e4-957a-470a-8b90-63c9cb61b284",
   "metadata": {},
   "outputs": [],
   "source": []
  }
 ],
 "metadata": {
  "kernelspec": {
   "display_name": "Python 3 (ipykernel)",
   "language": "python",
   "name": "python3"
  },
  "language_info": {
   "codemirror_mode": {
    "name": "ipython",
    "version": 3
   },
   "file_extension": ".py",
   "mimetype": "text/x-python",
   "name": "python",
   "nbconvert_exporter": "python",
   "pygments_lexer": "ipython3",
   "version": "3.11.0"
  }
 },
 "nbformat": 4,
 "nbformat_minor": 5
}
